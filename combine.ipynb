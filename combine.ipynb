{
 "cells": [
  {
   "cell_type": "code",
   "execution_count": 9,
   "id": "a807d163-6d00-4d5b-b615-37cd926f654c",
   "metadata": {},
   "outputs": [],
   "source": [
    "import os\n",
    "import glob\n",
    "import numpy as np\n",
    "import pandas as pd"
   ]
  },
  {
   "cell_type": "code",
   "execution_count": 10,
   "id": "33272d80-9521-4a5f-bb9d-eb8b930f6d46",
   "metadata": {},
   "outputs": [],
   "source": [
    "DIRECTORY = \"preprocessed_dataset\""
   ]
  },
  {
   "cell_type": "code",
   "execution_count": 11,
   "id": "36af64a4-108f-41e8-b149-b3334eccb2a0",
   "metadata": {},
   "outputs": [],
   "source": [
    "CSV_FILES = glob.glob(DIRECTORY + '/*.csv')"
   ]
  },
  {
   "cell_type": "code",
   "execution_count": null,
   "id": "76794161-877d-4e4f-86e3-5bb8ac575031",
   "metadata": {},
   "outputs": [],
   "source": [
    "header = True\n",
    "\n",
    "for file in tqdm(CSV_FILES):\n",
    "    # file_name = os.path.splitext(os.path.basename(file))[0]\n",
    "    # store_id, item_id = file_name.split('_')\n",
    "    df = pd.read_csv(file, index_col=\"date\")\n",
    "    df.index = pd.to_datetime(df.index)\n",
    "    df.to_csv(f\"preprocessed_dataset.csv\", mode='a', header=header, index=True)\n",
    "    header=False"
   ]
  }
 ],
 "metadata": {
  "kernelspec": {
   "display_name": "Python 3 (ipykernel)",
   "language": "python",
   "name": "python3"
  },
  "language_info": {
   "codemirror_mode": {
    "name": "ipython",
    "version": 3
   },
   "file_extension": ".py",
   "mimetype": "text/x-python",
   "name": "python",
   "nbconvert_exporter": "python",
   "pygments_lexer": "ipython3",
   "version": "3.11.11"
  }
 },
 "nbformat": 4,
 "nbformat_minor": 5
}
