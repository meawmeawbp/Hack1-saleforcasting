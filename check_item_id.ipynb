{
 "cells": [
  {
   "cell_type": "code",
   "execution_count": 1,
   "id": "23d413b5",
   "metadata": {},
   "outputs": [
    {
     "name": "stderr",
     "output_type": "stream",
     "text": [
      "C:\\Users\\ASUS\\AppData\\Local\\Temp\\ipykernel_22744\\2987680122.py:4: DtypeWarning: Columns (0) have mixed types. Specify dtype option on import or set low_memory=False.\n",
      "  hierarchy_df = pd.read_csv(\"item_hierarchy.csv\")\n"
     ]
    }
   ],
   "source": [
    "import pandas as pd\n",
    "\n",
    "# โหลดไฟล์\n",
    "hierarchy_df = pd.read_csv(\"item_hierarchy.csv\")"
   ]
  },
  {
   "cell_type": "code",
   "execution_count": null,
   "id": "18bb133a",
   "metadata": {},
   "outputs": [
    {
     "data": {
      "text/html": [
       "<div>\n",
       "<style scoped>\n",
       "    .dataframe tbody tr th:only-of-type {\n",
       "        vertical-align: middle;\n",
       "    }\n",
       "\n",
       "    .dataframe tbody tr th {\n",
       "        vertical-align: top;\n",
       "    }\n",
       "\n",
       "    .dataframe thead th {\n",
       "        text-align: right;\n",
       "    }\n",
       "</style>\n",
       "<table border=\"1\" class=\"dataframe\">\n",
       "  <thead>\n",
       "    <tr style=\"text-align: right;\">\n",
       "      <th></th>\n",
       "      <th>item_id</th>\n",
       "      <th>category</th>\n",
       "      <th>subcategory</th>\n",
       "      <th>brand</th>\n",
       "    </tr>\n",
       "  </thead>\n",
       "  <tbody>\n",
       "    <tr>\n",
       "      <th>80</th>\n",
       "      <td>1045318</td>\n",
       "      <td>1 : FRESH FOOD</td>\n",
       "      <td>FRUIT</td>\n",
       "      <td>LOTUSS</td>\n",
       "    </tr>\n",
       "  </tbody>\n",
       "</table>\n",
       "</div>"
      ],
      "text/plain": [
       "    item_id        category subcategory   brand\n",
       "80  1045318  1 : FRESH FOOD       FRUIT  LOTUSS"
      ]
     },
     "execution_count": 3,
     "metadata": {},
     "output_type": "execute_result"
    }
   ],
   "source": [
    "def get_item_info(item_id_input):\n",
    "    item_id_input = str(item_id_input).strip()\n",
    "    result = hierarchy_df[hierarchy_df['item_id'].astype(str) == item_id_input]\n",
    "    if not result.empty:\n",
    "        return result[['item_id', 'category', 'subcategory', 'brand']]\n",
    "    else:\n",
    "        return f\"ไม่พบข้อมูลของ item_id: {item_id_input}\"\n",
    "\n",
    "# ตัวอย่างการใช้งาน:\n",
    "get_item_info(\"1045318\")\n",
    "\n"
   ]
  },
  {
   "cell_type": "code",
   "execution_count": null,
   "id": "dc5af721",
   "metadata": {},
   "outputs": [
    {
     "data": {
      "text/html": [
       "<div>\n",
       "<style scoped>\n",
       "    .dataframe tbody tr th:only-of-type {\n",
       "        vertical-align: middle;\n",
       "    }\n",
       "\n",
       "    .dataframe tbody tr th {\n",
       "        vertical-align: top;\n",
       "    }\n",
       "\n",
       "    .dataframe thead th {\n",
       "        text-align: right;\n",
       "    }\n",
       "</style>\n",
       "<table border=\"1\" class=\"dataframe\">\n",
       "  <thead>\n",
       "    <tr style=\"text-align: right;\">\n",
       "      <th></th>\n",
       "      <th>item_id</th>\n",
       "      <th>category</th>\n",
       "      <th>subcategory</th>\n",
       "      <th>brand</th>\n",
       "    </tr>\n",
       "  </thead>\n",
       "  <tbody>\n",
       "    <tr>\n",
       "      <th>126958</th>\n",
       "      <td>75132591</td>\n",
       "      <td>4 : HARDL E</td>\n",
       "      <td>MAJOR DOMESTIC APPLIANCE</td>\n",
       "      <td>SAMSUNG</td>\n",
       "    </tr>\n",
       "  </tbody>\n",
       "</table>\n",
       "</div>"
      ],
      "text/plain": [
       "         item_id     category               subcategory    brand\n",
       "126958  75132591  4 : HARDL E  MAJOR DOMESTIC APPLIANCE  SAMSUNG"
      ]
     },
     "execution_count": 4,
     "metadata": {},
     "output_type": "execute_result"
    }
   ],
   "source": [
    "def get_item_info(item_id_input):\n",
    "    item_id_input = str(item_id_input).strip()\n",
    "    result = hierarchy_df[hierarchy_df['item_id'].astype(str) == item_id_input]\n",
    "    if not result.empty:\n",
    "        return result[['item_id', 'category', 'subcategory', 'brand']]\n",
    "    else:\n",
    "        return f\"ไม่พบข้อมูลของ item_id: {item_id_input}\"\n",
    "\n",
    "# ตัวอย่างการใช้งาน:\n",
    "get_item_info(\"75132591\")\n",
    "\n",
    "#ขายดีที่สุดเมื่อมีโปร\n"
   ]
  },
  {
   "cell_type": "code",
   "execution_count": null,
   "id": "7336a023",
   "metadata": {},
   "outputs": [
    {
     "data": {
      "text/html": [
       "<div>\n",
       "<style scoped>\n",
       "    .dataframe tbody tr th:only-of-type {\n",
       "        vertical-align: middle;\n",
       "    }\n",
       "\n",
       "    .dataframe tbody tr th {\n",
       "        vertical-align: top;\n",
       "    }\n",
       "\n",
       "    .dataframe thead th {\n",
       "        text-align: right;\n",
       "    }\n",
       "</style>\n",
       "<table border=\"1\" class=\"dataframe\">\n",
       "  <thead>\n",
       "    <tr style=\"text-align: right;\">\n",
       "      <th></th>\n",
       "      <th>item_id</th>\n",
       "      <th>category</th>\n",
       "      <th>subcategory</th>\n",
       "      <th>brand</th>\n",
       "    </tr>\n",
       "  </thead>\n",
       "  <tbody>\n",
       "    <tr>\n",
       "      <th>895579</th>\n",
       "      <td>52005699</td>\n",
       "      <td>10 : HARDL H</td>\n",
       "      <td>HOME FURNITURE</td>\n",
       "      <td>NO BRAND</td>\n",
       "    </tr>\n",
       "  </tbody>\n",
       "</table>\n",
       "</div>"
      ],
      "text/plain": [
       "         item_id      category     subcategory     brand\n",
       "895579  52005699  10 : HARDL H  HOME FURNITURE  NO BRAND"
      ]
     },
     "execution_count": 8,
     "metadata": {},
     "output_type": "execute_result"
    }
   ],
   "source": [
    "def get_item_info(item_id_input):\n",
    "    item_id_input = str(item_id_input).strip()\n",
    "    result = hierarchy_df[hierarchy_df['item_id'].astype(str) == item_id_input]\n",
    "    if not result.empty:\n",
    "        return result[['item_id', 'category', 'subcategory', 'brand']]\n",
    "    else:\n",
    "        return f\"ไม่พบข้อมูลของ item_id: {item_id_input}\"\n",
    "\n",
    "# ตัวอย่างการใช้งาน:\n",
    "get_item_info(\"52005699\")\n",
    "\n",
    "#สินค้าที่ปกติขายไม่ได้เลย แต่ขายได้ในช่วงมีโปรโมชั่น"
   ]
  },
  {
   "cell_type": "code",
   "execution_count": 10,
   "id": "476be924",
   "metadata": {},
   "outputs": [
    {
     "data": {
      "text/html": [
       "<div>\n",
       "<style scoped>\n",
       "    .dataframe tbody tr th:only-of-type {\n",
       "        vertical-align: middle;\n",
       "    }\n",
       "\n",
       "    .dataframe tbody tr th {\n",
       "        vertical-align: top;\n",
       "    }\n",
       "\n",
       "    .dataframe thead th {\n",
       "        text-align: right;\n",
       "    }\n",
       "</style>\n",
       "<table border=\"1\" class=\"dataframe\">\n",
       "  <thead>\n",
       "    <tr style=\"text-align: right;\">\n",
       "      <th></th>\n",
       "      <th>item_id</th>\n",
       "      <th>category</th>\n",
       "      <th>subcategory</th>\n",
       "      <th>brand</th>\n",
       "    </tr>\n",
       "  </thead>\n",
       "  <tbody>\n",
       "    <tr>\n",
       "      <th>261823</th>\n",
       "      <td>170979683</td>\n",
       "      <td>2 : DG FOOD</td>\n",
       "      <td>COLD BEVERAGE</td>\n",
       "      <td>NaN</td>\n",
       "    </tr>\n",
       "  </tbody>\n",
       "</table>\n",
       "</div>"
      ],
      "text/plain": [
       "          item_id     category    subcategory brand\n",
       "261823  170979683  2 : DG FOOD  COLD BEVERAGE   NaN"
      ]
     },
     "execution_count": 10,
     "metadata": {},
     "output_type": "execute_result"
    }
   ],
   "source": [
    "def get_item_info(item_id_input):\n",
    "    item_id_input = str(item_id_input).strip()\n",
    "    result = hierarchy_df[hierarchy_df['item_id'].astype(str) == item_id_input]\n",
    "    if not result.empty:\n",
    "        return result[['item_id', 'category', 'subcategory', 'brand']]\n",
    "    else:\n",
    "        return f\"ไม่พบข้อมูลของ item_id: {item_id_input}\"\n",
    "\n",
    "# ตัวอย่างการใช้งาน:\n",
    "get_item_info(\"170979683\")\n"
   ]
  },
  {
   "cell_type": "markdown",
   "id": "3400a157",
   "metadata": {},
   "source": []
  }
 ],
 "metadata": {
  "kernelspec": {
   "display_name": ".venv",
   "language": "python",
   "name": "python3"
  },
  "language_info": {
   "codemirror_mode": {
    "name": "ipython",
    "version": 3
   },
   "file_extension": ".py",
   "mimetype": "text/x-python",
   "name": "python",
   "nbconvert_exporter": "python",
   "pygments_lexer": "ipython3",
   "version": "3.13.3"
  }
 },
 "nbformat": 4,
 "nbformat_minor": 5
}
